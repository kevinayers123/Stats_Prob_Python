{
 "cells": [
  {
   "cell_type": "markdown",
   "metadata": {
    "toc": true
   },
   "source": [
    "<h1>Table of Contents<span class=\"tocSkip\"></span></h1>\n",
    "<div class=\"toc\"><ul class=\"toc-item\"><li><span><a href=\"#What-is-Probability-Theory?\" data-toc-modified-id=\"What-is-Probability-Theory?-1\"><span class=\"toc-item-num\">1&nbsp;&nbsp;</span>What is Probability Theory?</a></span><ul class=\"toc-item\"><li><span><a href=\"#A-simple-(?)-question\" data-toc-modified-id=\"A-simple-(?)-question-1.1\"><span class=\"toc-item-num\">1.1&nbsp;&nbsp;</span>A simple (?) question</a></span></li><li><span><a href=\"#Simulating-coin-flips\" data-toc-modified-id=\"Simulating-coin-flips-1.2\"><span class=\"toc-item-num\">1.2&nbsp;&nbsp;</span>Simulating coin flips</a></span></li><li><span><a href=\"#Summary\" data-toc-modified-id=\"Summary-1.3\"><span class=\"toc-item-num\">1.3&nbsp;&nbsp;</span>Summary</a></span></li></ul></li><li><span><a href=\"#What-is-probability-theory?\" data-toc-modified-id=\"What-is-probability-theory?-2\"><span class=\"toc-item-num\">2&nbsp;&nbsp;</span>What is probability theory?</a></span></li></ul></div>"
   ]
  },
  {
   "cell_type": "code",
   "execution_count": 1,
   "metadata": {
    "slideshow": {
     "slide_type": "skip"
    }
   },
   "outputs": [
    {
     "name": "stdout",
     "output_type": "stream",
     "text": [
      "Populating the interactive namespace from numpy and matplotlib\n"
     ]
    }
   ],
   "source": [
    "%pylab inline"
   ]
  },
  {
   "cell_type": "markdown",
   "metadata": {
    "slideshow": {
     "slide_type": "slide"
    }
   },
   "source": [
    "# What is Probability Theory?"
   ]
  },
  {
   "cell_type": "markdown",
   "metadata": {
    "slideshow": {
     "slide_type": "fragment"
    }
   },
   "source": [
    "* Probability Theory is a **mathematical** framework for computing the probability of complex events."
   ]
  },
  {
   "cell_type": "markdown",
   "metadata": {
    "slideshow": {
     "slide_type": "fragment"
    }
   },
   "source": [
    "* Under the assumption that **we know the probabilities of the basic events.**"
   ]
  },
  {
   "cell_type": "markdown",
   "metadata": {
    "slideshow": {
     "slide_type": "fragment"
    }
   },
   "source": [
    "* What is the precise meaning of <font color='red'>\"probability\"</font> and <font color='red'>\"event\"</font>?"
   ]
  },
  {
   "cell_type": "markdown",
   "metadata": {
    "slideshow": {
     "slide_type": "fragment"
    }
   },
   "source": [
    "* We will give precise definitions later in the class. "
   ]
  },
  {
   "cell_type": "markdown",
   "metadata": {
    "slideshow": {
     "slide_type": "fragment"
    }
   },
   "source": [
    "* For now, we'll rely on common sense."
   ]
  },
  {
   "cell_type": "markdown",
   "metadata": {
    "slideshow": {
     "slide_type": "slide"
    }
   },
   "source": [
    "## A simple (?) question\n",
    "We all know that if one flips a fair coin then the outcome is \"heads\" or \"tails\" with equal probabilities."
   ]
  },
  {
   "cell_type": "markdown",
   "metadata": {
    "slideshow": {
     "slide_type": "fragment"
    }
   },
   "source": [
    "What does that mean? "
   ]
  },
  {
   "cell_type": "markdown",
   "metadata": {
    "slideshow": {
     "slide_type": "fragment"
    }
   },
   "source": [
    "It means that if we flip the coin $k$ times, for some large value of $k$, say $k=10,000$, "
   ]
  },
  {
   "cell_type": "markdown",
   "metadata": {
    "slideshow": {
     "slide_type": "fragment"
    }
   },
   "source": [
    "Then the number of \"heads\" is **about** $\\frac{k}{2}=\\frac{10,000}{2} = 5,000$"
   ]
  },
  {
   "cell_type": "markdown",
   "metadata": {
    "slideshow": {
     "slide_type": "fragment"
    }
   },
   "source": [
    "What do we mean by **about** ??"
   ]
  },
  {
   "cell_type": "markdown",
   "metadata": {
    "slideshow": {
     "slide_type": "slide"
    }
   },
   "source": [
    "## Simulating coin flips\n",
    "\n",
    "We will use the pseudo random number generators in `numpy` to simulate the coin flips. "
   ]
  },
  {
   "cell_type": "markdown",
   "metadata": {
    "slideshow": {
     "slide_type": "slide"
    }
   },
   "source": [
    "instead of \"Heads\" and \"Tails\" we will use $x_i=1$ or $x_i=-1$ and consider the sum $S_{10000} = x_1+x_2+\\cdots+x_{10000}$."
   ]
  },
  {
   "cell_type": "markdown",
   "metadata": {
    "slideshow": {
     "slide_type": "fragment"
    }
   },
   "source": [
    "If the number of heads is about 5,000 then $S_{10000}\\approx 0$"
   ]
  },
  {
   "cell_type": "markdown",
   "metadata": {
    "slideshow": {
     "slide_type": "fragment"
    }
   },
   "source": [
    "We will vary the number of coin flips, which we denote by $k$"
   ]
  },
  {
   "cell_type": "code",
   "execution_count": 2,
   "metadata": {
    "code_folding": [],
    "slideshow": {
     "slide_type": "subslide"
    }
   },
   "outputs": [],
   "source": [
    "# Generate the sum of k coin flips, repeat that n times\n",
    "def generate_counts(k=1000,n=100):\n",
    "    X=2*(random.rand(k,n)>0.5)-1  # generate a kXn matrix of +-1 random numbers\n",
    "    S=sum(X,axis=0) \n",
    "    return S "
   ]
  },
  {
   "cell_type": "code",
   "execution_count": 6,
   "metadata": {
    "hide_input": true,
    "scrolled": false,
    "slideshow": {
     "slide_type": "subslide"
    }
   },
   "outputs": [
    {
     "name": "stdout",
     "output_type": "stream",
     "text": [
      "[  14   52   22   36   24  -34  -16  -24   42   48  -40   50   54  -46\n",
      "   40  -32  -32   24    6  -30   56  -44  -52   -8   34  -54  -16   30\n",
      "    0   -2   14  -38  -48  -32   26  -46   30  -10   94   32   -2    2\n",
      "   -4  -14    4   40   18  -24  -60   60  -40    4   16    6   28    0\n",
      "  -76   16  -48  -52   24   40    6  -64   14  -16   50   54  -30  -10\n",
      "    2    0  -14   38  -46   24   22   24   44   -2   36   -6    6   20\n",
      "   40   34  -14  -10  -52  -46    0   48   10  -68   44  -50    8    4\n",
      "  -12  -18  -16  -16   18    6  -34   12   34  -22   -6   32  -28   24\n",
      "  -20   20  -20   36    4   24  -12  -26  -10    6  -26  -18   22   -4\n",
      "   38   40  -54  -30   30   -8  -38  -12   10  -10  -52    8   30    4\n",
      "  -18    8  -10   -2   -4   44  -16  -60   16   32  -60  -58  -24   14\n",
      "  -14  -12   16   -2  -14  -16   -4   18   46  -24   52    8   28   44\n",
      "    4   36   16   30   24  -22   16   46   34   24   30   30   38  -28\n",
      "   16  -22  -42  -16  -16   44  -32   60  -44 -112   20  -46  -44  -36\n",
      "  -46    0   16  -16   12  -18  -24  -46  -28  -22   -2    6  -38   12\n",
      "  -18  -40  -20  -20  -60  -10  -28  -20  -52   20   16  -20  -22    2\n",
      "   -6   16   40  -30   -6  -34   12   66  -12    4   -6   54    4  -20\n",
      "   -6   -4    4   20  -26    6  -38    2  -16   -4   18  -14  -32  -34\n",
      "  -24   -2  -48   58    6  -82   52   32   20   16    0   32   30    8\n",
      "   36  -12  -22   40   36   -6   28   42   46   14   18   26  -44   -8\n",
      " -104  -18  -24    8   12  -50   30  -18  -30   10    6   14  -42   26\n",
      "  -16   36   12   62  -16    6  -24   16   20   18   -2    4   50   -8\n",
      "  -12   64  -30    4  -48   -4   -6   -4   40   16  -60  -34   -8  -14\n",
      "   66  -34    4    8   -6   10  -12   -8    2  -24  -32   14  -10  -10\n",
      "  -22  -26  -14   12    8  -28   40   36   16   36   46    8   18    6\n",
      "   30  -16   42  -16   16  -46   38   42   12   -2  -34   26  -16    8\n",
      "  -20  -38   18  -38    4   22  -12   36  -24  -22    4  -40   46  -18\n",
      "    8  -14  -18  -38  -30   20  -28   12  -36    2  -10    4  -46  -20\n",
      "  -46   -4  -12  -42  -26   28   -2   16    4   22  -12   14   -4   12\n",
      "   56  -34   34  -18  -44    8  -36  -60    2   -4    2    0  -34   -2\n",
      "   26   10   -2   42    4   36  -22  -46  -18   44   -2  -40   28   14\n",
      "  -10   34  -10   24   10  -52  -10  -28   60  -18  -10   18   20   22\n",
      "  -22   12   14  -38  -48   -8  -24   20   -6   -4  -12   50    6   -6\n",
      "  -14  -12   12   60   -4   22   20   30   -8    8    0  -24   32   40\n",
      "   20  -26  -20  -14   66   24   -6    2  -10   -4   18    4  -32    2\n",
      "   34  -70  -10   36  -26   54  -36   18  -46   -6   -8   22   14   14\n",
      "    8  -24  -44  -80   10   24   46  -44  -18   70   14  -26   52   42\n",
      "  -20  -28  -40  -50   12   76   -8   32   -4  -20   12   20   64  -38\n",
      "   14  -10   36   26  -20   14   26  -22  -22   36  -62   16  -12   14\n",
      "  -20   10  -30  -34    4  -16   60  -28  -12   30  -80    8    4   28\n",
      "   -4   -6   46  -78   36    4   30   -4  -20  -12   20  -58  -20  -36\n",
      "   34   34   20  -16   52    4  -52  -16  -26   -4  -46   18  -24  -20\n",
      "   36   12  -12  -30   50   56    8    0   16   14  -44   -2   22   44\n",
      "   16   14  -46  -66   30  -20    6   -6   24   90  -48  -20   40  -24\n",
      "  -12  -50  -10    6   76   18    4   44   14  -40  -20  -82   -4   24\n",
      "  -32   32   -8   24   -6    4    8  -46  -20   -2  -18  -10   56  -32\n",
      "    0  -16  -34   24   16   26  -38   14   10   -2    4    6  -34   58\n",
      "   26   26  -30   42  -22   48   32    2  -32   10  -22   40  -28  -30\n",
      "    0    0   34  -76  -12  -36    8   36  -66   -6  -16  -44   -6   16\n",
      "    6   34    2    2  -28  -44    6  -12    4  -32   10   40  -14  -12\n",
      "   10  -50  -38  -38  -28   30  -14   10   18   34    0    2  -20   20\n",
      "  -42   22    6  -34  -24  -60   20   -2    8   34    2  -18   24   32\n",
      "  -16  -50   20  -10  -64    2   26   22   10   -6   68   34  -22  -60\n",
      "  -44    0   -2   22   10   10   26    2  -68    8  -32    8  -30  -58\n",
      "   10  -32    2   22   -8   24   42   30   -2   46  -32   18  -22   -8\n",
      "  -16  -14  -18   -6  -30   -4  -24    0   26    4  -26   16    0  -76\n",
      "   30   36   48  -60  -58   22   38  -46  -28   18   -4    4   60   18\n",
      "   20   36  -46   82   40  -24   -2    6  -18  -12   10  -32   38  -82\n",
      "   14    0  -14  -28  110   14  -32  -24   26    2  -70  -40  -10  -12\n",
      "   -2    2  -24   20   46   60   -4   -6   -2  -48   -4    0  -10  -24\n",
      "  -68    4   76   28   72    2   10  -18  -12  -26  -50  -12   16   10\n",
      "   24    6  -28   -8    2  -10    6  -38    8    8  -18   28    6   34\n",
      "   54  -10   -2   30    2  -28  -16  -14   30   16   20   18   -2  -44\n",
      "   18   18  -18  -34  -28  -10  -46   44    8  -26   48   32   12   42\n",
      "  -14   36   34  -16   -6    0   20  -20   12  -48   52    4   -4   20\n",
      "   44   -8   26   34   24   32   34   18   22   12   16   12  -14   -4\n",
      "    0    4  -46   24  -24  -90   32    6  -12   46   -6   32    6    4\n",
      "  -10   34  -78   -8    6  -24  -50   14   -2  -18   58  -18   40   60\n",
      "   20   30  -24    4   42   14   20   26   44   -6   56   -6    8   -4\n",
      "  -12  -30  -10    8   10  -16   28   32  -22   -4  -32   -4   22   58\n",
      "  -12  -36  -44  -16  -10  -28  -24   28   50  -28  -26   36  -14    0\n",
      "    6  -34  -70  -26   32   18]\n"
     ]
    },
    {
     "data": {
      "image/png": "[encoded data removed]",
      "text/plain": [
       "<Figure size 720x288 with 1 Axes>"
      ]
     },
     "metadata": {},
     "output_type": "display_data"
    }
   ],
   "source": [
    "k=1000\n",
    "n=1000\n",
    "counts=generate_counts(k=k,n=n)\n",
    "print(counts)\n",
    "figure(figsize=[10,4])\n",
    "hist(counts);\n",
    "xlim([-k,k])\n",
    "xlabel(\"sum\")\n",
    "ylabel(\"count\")\n",
    "title(\"Histogram of coin flip sum when flipping a fair coin %d times\"%k)\n",
    "grid()"
   ]
  },
  {
   "cell_type": "markdown",
   "metadata": {
    "slideshow": {
     "slide_type": "fragment"
    }
   },
   "source": [
    "Note that the sum $S_{1000}$ is not **exactly** $0$, it is only **close to** $0$."
   ]
  },
  {
   "cell_type": "markdown",
   "metadata": {
    "slideshow": {
     "slide_type": "subslide"
    }
   },
   "source": [
    "Using **probability theory** we can calculate **how small** is $\\big|S_k\\big|$"
   ]
  },
  {
   "cell_type": "markdown",
   "metadata": {
    "slideshow": {
     "slide_type": "fragment"
    }
   },
   "source": [
    "In a later lesson we will show that the probability that \n",
    "$$\\big| S_k \\big| \\geq 4\\sqrt{k}$$\n",
    "is smaller than $2 \\times 10^{-8}$ which is $0.000002\\%$"
   ]
  },
  {
   "cell_type": "markdown",
   "metadata": {
    "slideshow": {
     "slide_type": "subslide"
    }
   },
   "source": [
    "Let's use our simulation to demonstrate that this is the case:"
   ]
  },
  {
   "cell_type": "code",
   "execution_count": 10,
   "metadata": {
    "code_folding": [],
    "hide_input": true,
    "scrolled": true,
    "slideshow": {
     "slide_type": "subslide"
    }
   },
   "outputs": [
    {
     "data": {
      "image/png": "[encoded data removed]",
      "text/plain": [
       "<Figure size 936x252 with 3 Axes>"
      ]
     },
     "metadata": {},
     "output_type": "display_data"
    }
   ],
   "source": [
    "from math import sqrt\n",
    "figure(figsize=[13,3.5])\n",
    "for j in range(2,5):\n",
    "    k=10**j\n",
    "    counts=generate_counts(k=k,n=100)\n",
    "    subplot(130+j-1)\n",
    "    hist(counts,bins=10);\n",
    "    d=4*sqrt(k)\n",
    "    plot([-d,-d],[0,30],'r')\n",
    "    plot([+d,+d],[0,30],'r')\n",
    "    grid()\n",
    "    title('%d flips, bound=+-%6.1f'%(k,d))\n"
   ]
  },
  {
   "cell_type": "code",
   "execution_count": 5,
   "metadata": {
    "hide_input": true,
    "slideshow": {
     "slide_type": "subslide"
    }
   },
   "outputs": [
    {
     "data": {
      "image/png": "[encoded data removed]",
      "text/plain": [
       "<Figure size 936x252 with 3 Axes>"
      ]
     },
     "metadata": {},
     "output_type": "display_data"
    }
   ],
   "source": [
    "figure(figsize=[13,3.5])\n",
    "for j in range(2,5):\n",
    "    k=10**j\n",
    "    counts=generate_counts(k=k,n=100)\n",
    "    subplot(130+j-1)\n",
    "    hist(counts,bins=10);\n",
    "    xlim([-k,k])\n",
    "    d=4*sqrt(k)\n",
    "    plot([-d,-d],[0,30],'r')\n",
    "    plot([+d,+d],[0,30],'r')\n",
    "    grid()\n",
    "    title('%d flips, bound=+-%6.1f'%(k,d))\n"
   ]
  },
  {
   "cell_type": "markdown",
   "metadata": {
    "slideshow": {
     "slide_type": "slide"
    }
   },
   "source": [
    "## Summary\n",
    "We did some experiments summing $k$ random numbers: $S_k=x_1+x_2+\\cdots+x_k$"
   ]
  },
  {
   "cell_type": "markdown",
   "metadata": {
    "collapsed": true,
    "slideshow": {
     "slide_type": "fragment"
    }
   },
   "source": [
    "$x_i=-1$ with probability $1/2$, $x_i=+1$ with probability $1/2$"
   ]
  },
  {
   "cell_type": "markdown",
   "metadata": {
    "slideshow": {
     "slide_type": "fragment"
    }
   },
   "source": [
    "Our experiments show that the sum $S_k$ is (almost) always in the range $\\big[-4\\sqrt{k},+4\\sqrt{k}\\big]$ "
   ]
  },
  {
   "cell_type": "markdown",
   "metadata": {
    "slideshow": {
     "slide_type": "fragment"
    }
   },
   "source": [
    "\n",
    "$$\\mbox{ If } k \\to \\infty,\\;\\;\\; \\frac{4 \\sqrt{k}}{k} = \\frac{4}{\\sqrt{k}} \\to 0$$"
   ]
  },
  {
   "cell_type": "markdown",
   "metadata": {
    "slideshow": {
     "slide_type": "subslide"
    }
   },
   "source": [
    "$$ \\mbox{Therefor if }\\;\\;k \\to \\infty,  \\frac{S_k}{k} \\to 0$$"
   ]
  },
  {
   "cell_type": "markdown",
   "metadata": {
    "slideshow": {
     "slide_type": "slide"
    }
   },
   "source": [
    "# What is probability theory?\n",
    "It is the math involved in **proving** (a precise version of) the statements above."
   ]
  },
  {
   "cell_type": "markdown",
   "metadata": {
    "slideshow": {
     "slide_type": "fragment"
    }
   },
   "source": [
    "In most cases, we can **approximate** probabilities using simulations (Monte-Carlo simulations)"
   ]
  },
  {
   "cell_type": "markdown",
   "metadata": {
    "slideshow": {
     "slide_type": "fragment"
    }
   },
   "source": [
    "Calculating the probabilities is better because:"
   ]
  },
  {
   "cell_type": "markdown",
   "metadata": {
    "slideshow": {
     "slide_type": "fragment"
    }
   },
   "source": [
    "* It provides a precise answer"
   ]
  },
  {
   "cell_type": "markdown",
   "metadata": {
    "slideshow": {
     "slide_type": "fragment"
    }
   },
   "source": [
    "* It is much faster than Monte Carlo simulations."
   ]
  },
  {
   "cell_type": "markdown",
   "metadata": {},
   "source": [
    "** <font size=4 > Up Next: What is Statistics ?</font> **"
   ]
  }
 ],
 "metadata": {
  "anaconda-cloud": {},
  "celltoolbar": "Slideshow",
  "kernelspec": {
   "display_name": "Python 3",
   "language": "python",
   "name": "python3"
  },
  "language_info": {
   "codemirror_mode": {
    "name": "ipython",
    "version": 3
   },
   "file_extension": ".py",
   "mimetype": "text/x-python",
   "name": "python",
   "nbconvert_exporter": "python",
   "pygments_lexer": "ipython3",
   "version": "3.6.5"
  },
  "toc": {
   "base_numbering": 1,
   "nav_menu": {
    "height": "66px",
    "width": "252px"
   },
   "number_sections": true,
   "sideBar": true,
   "skip_h1_title": false,
   "title_cell": "Table of Contents",
   "title_sidebar": "Contents",
   "toc_cell": true,
   "toc_position": {
    "height": "412px",
    "left": "0px",
    "right": "871.4px",
    "top": "134px",
    "width": "200px"
   },
   "toc_section_display": "block",
   "toc_window_display": false
  },
  "varInspector": {
   "cols": {
    "lenName": 16,
    "lenType": 16,
    "lenVar": 40
   },
   "kernels_config": {
    "python": {
     "delete_cmd_postfix": "",
     "delete_cmd_prefix": "del ",
     "library": "var_list.py",
     "varRefreshCmd": "print(var_dic_list())"
    },
    "r": {
     "delete_cmd_postfix": ") ",
     "delete_cmd_prefix": "rm(",
     "library": "var_list.r",
     "varRefreshCmd": "cat(var_dic_list()) "
    }
   },
   "types_to_exclude": [
    "module",
    "function",
    "builtin_function_or_method",
    "instance",
    "_Feature"
   ],
   "window_display": false
  }
 },
 "nbformat": 4,
 "nbformat_minor": 2
}
